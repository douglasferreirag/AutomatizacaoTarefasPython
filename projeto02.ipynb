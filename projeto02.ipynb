{
 "cells": [
  {
   "cell_type": "markdown",
   "metadata": {},
   "source": [
    "# Projeto 02\n",
    "\n",
    "- Passo a passo do problema \n",
    "\n",
    "* Buscar as informações da ação automaticamente.\n",
    "* Criar as análises solicitadas.\n",
    "    * Cotação máxima\n",
    "    * Cotação mínima\n",
    "    * Valor médio\n",
    "* Enviar um e-mail automático para o gestor."
   ]
  },
  {
   "cell_type": "markdown",
   "metadata": {},
   "source": [
    "#### Buscar dados da ação automaticamente\n",
    "\n",
    "Bibliotecas: 'yfinance' e 'matplotlib'\n",
    "\n",
    "`!pip install yfinance !pip install matplotlib`"
   ]
  },
  {
   "cell_type": "code",
   "execution_count": 3,
   "metadata": {},
   "outputs": [
    {
     "name": "stdout",
     "output_type": "stream",
     "text": [
      "Collecting matplotlib\n",
      "  Downloading matplotlib-3.9.0-cp312-cp312-win_amd64.whl.metadata (11 kB)\n",
      "Collecting contourpy>=1.0.1 (from matplotlib)\n",
      "  Downloading contourpy-1.2.1-cp312-cp312-win_amd64.whl.metadata (5.8 kB)\n",
      "Collecting cycler>=0.10 (from matplotlib)\n",
      "  Downloading cycler-0.12.1-py3-none-any.whl.metadata (3.8 kB)\n",
      "Collecting fonttools>=4.22.0 (from matplotlib)\n",
      "  Downloading fonttools-4.53.0-cp312-cp312-win_amd64.whl.metadata (165 kB)\n",
      "     ---------------------------------------- 0.0/165.5 kB ? eta -:--:--\n",
      "     --------- --------------------------- 41.0/165.5 kB 991.0 kB/s eta 0:00:01\n",
      "     --------------------- ----------------- 92.2/165.5 kB 1.7 MB/s eta 0:00:01\n",
      "     -------------------------------------  163.8/165.5 kB 1.2 MB/s eta 0:00:01\n",
      "     ------------------------------------ 165.5/165.5 kB 995.2 kB/s eta 0:00:00\n",
      "Collecting kiwisolver>=1.3.1 (from matplotlib)\n",
      "  Downloading kiwisolver-1.4.5-cp312-cp312-win_amd64.whl.metadata (6.5 kB)\n",
      "Requirement already satisfied: numpy>=1.23 in c:\\users\\dougl\\appdata\\local\\programs\\python\\python312\\lib\\site-packages (from matplotlib) (2.0.0)\n",
      "Requirement already satisfied: packaging>=20.0 in c:\\users\\dougl\\appdata\\roaming\\python\\python312\\site-packages (from matplotlib) (24.1)\n",
      "Collecting pillow>=8 (from matplotlib)\n",
      "  Downloading pillow-10.3.0-cp312-cp312-win_amd64.whl.metadata (9.4 kB)\n",
      "Collecting pyparsing>=2.3.1 (from matplotlib)\n",
      "  Downloading pyparsing-3.1.2-py3-none-any.whl.metadata (5.1 kB)\n",
      "Requirement already satisfied: python-dateutil>=2.7 in c:\\users\\dougl\\appdata\\roaming\\python\\python312\\site-packages (from matplotlib) (2.9.0.post0)\n",
      "Requirement already satisfied: six>=1.5 in c:\\users\\dougl\\appdata\\roaming\\python\\python312\\site-packages (from python-dateutil>=2.7->matplotlib) (1.16.0)\n",
      "Downloading matplotlib-3.9.0-cp312-cp312-win_amd64.whl (8.0 MB)\n",
      "   ---------------------------------------- 0.0/8.0 MB ? eta -:--:--\n",
      "   ---------------------------------------- 0.1/8.0 MB 2.0 MB/s eta 0:00:04\n",
      "    --------------------------------------- 0.1/8.0 MB 1.7 MB/s eta 0:00:05\n",
      "   - -------------------------------------- 0.2/8.0 MB 1.7 MB/s eta 0:00:05\n",
      "   - -------------------------------------- 0.3/8.0 MB 1.7 MB/s eta 0:00:05\n",
      "   -- ------------------------------------- 0.4/8.0 MB 1.8 MB/s eta 0:00:05\n",
      "   --- ------------------------------------ 0.6/8.0 MB 2.2 MB/s eta 0:00:04\n",
      "   --- ------------------------------------ 0.7/8.0 MB 2.2 MB/s eta 0:00:04\n",
      "   ---- ----------------------------------- 1.0/8.0 MB 2.7 MB/s eta 0:00:03\n",
      "   ----- ---------------------------------- 1.1/8.0 MB 2.7 MB/s eta 0:00:03\n",
      "   ------ --------------------------------- 1.3/8.0 MB 2.8 MB/s eta 0:00:03\n",
      "   ------- -------------------------------- 1.5/8.0 MB 2.8 MB/s eta 0:00:03\n",
      "   --------- ------------------------------ 1.9/8.0 MB 3.2 MB/s eta 0:00:02\n",
      "   --------- ------------------------------ 1.9/8.0 MB 3.1 MB/s eta 0:00:02\n",
      "   ----------- ---------------------------- 2.2/8.0 MB 3.2 MB/s eta 0:00:02\n",
      "   ------------ --------------------------- 2.5/8.0 MB 3.3 MB/s eta 0:00:02\n",
      "   ------------- -------------------------- 2.7/8.0 MB 3.5 MB/s eta 0:00:02\n",
      "   -------------- ------------------------- 2.8/8.0 MB 3.5 MB/s eta 0:00:02\n",
      "   -------------- ------------------------- 3.0/8.0 MB 3.4 MB/s eta 0:00:02\n",
      "   --------------- ------------------------ 3.1/8.0 MB 3.4 MB/s eta 0:00:02\n",
      "   ---------------- ----------------------- 3.3/8.0 MB 3.5 MB/s eta 0:00:02\n",
      "   ----------------- ---------------------- 3.5/8.0 MB 3.5 MB/s eta 0:00:02\n",
      "   ------------------- -------------------- 3.8/8.0 MB 3.6 MB/s eta 0:00:02\n",
      "   -------------------- ------------------- 4.1/8.0 MB 3.7 MB/s eta 0:00:02\n",
      "   --------------------- ------------------ 4.3/8.0 MB 3.8 MB/s eta 0:00:01\n",
      "   ----------------------- ---------------- 4.6/8.0 MB 3.9 MB/s eta 0:00:01\n",
      "   ------------------------ --------------- 4.8/8.0 MB 3.9 MB/s eta 0:00:01\n",
      "   ------------------------ --------------- 4.9/8.0 MB 3.9 MB/s eta 0:00:01\n",
      "   ------------------------ --------------- 5.0/8.0 MB 3.7 MB/s eta 0:00:01\n",
      "   -------------------------- ------------- 5.2/8.0 MB 3.8 MB/s eta 0:00:01\n",
      "   -------------------------- ------------- 5.4/8.0 MB 3.8 MB/s eta 0:00:01\n",
      "   --------------------------- ------------ 5.5/8.0 MB 3.7 MB/s eta 0:00:01\n",
      "   --------------------------- ------------ 5.5/8.0 MB 3.7 MB/s eta 0:00:01\n",
      "   ---------------------------- ----------- 5.6/8.0 MB 3.6 MB/s eta 0:00:01\n",
      "   ----------------------------- ---------- 5.8/8.0 MB 3.6 MB/s eta 0:00:01\n",
      "   ------------------------------- -------- 6.3/8.0 MB 3.7 MB/s eta 0:00:01\n",
      "   --------------------------------- ------ 6.6/8.0 MB 3.8 MB/s eta 0:00:01\n",
      "   ---------------------------------- ----- 6.8/8.0 MB 3.8 MB/s eta 0:00:01\n",
      "   ----------------------------------- ---- 7.1/8.0 MB 3.8 MB/s eta 0:00:01\n",
      "   ------------------------------------- -- 7.5/8.0 MB 4.0 MB/s eta 0:00:01\n",
      "   -------------------------------------- - 7.7/8.0 MB 4.0 MB/s eta 0:00:01\n",
      "   ---------------------------------------  8.0/8.0 MB 4.0 MB/s eta 0:00:01\n",
      "   ---------------------------------------  8.0/8.0 MB 4.0 MB/s eta 0:00:01\n",
      "   ---------------------------------------- 8.0/8.0 MB 3.9 MB/s eta 0:00:00\n",
      "Downloading contourpy-1.2.1-cp312-cp312-win_amd64.whl (189 kB)\n",
      "   ---------------------------------------- 0.0/189.9 kB ? eta -:--:--\n",
      "   ---------------------------------------- 189.9/189.9 kB 5.8 MB/s eta 0:00:00\n",
      "Downloading cycler-0.12.1-py3-none-any.whl (8.3 kB)\n",
      "Downloading fonttools-4.53.0-cp312-cp312-win_amd64.whl (2.2 MB)\n",
      "   ---------------------------------------- 0.0/2.2 MB ? eta -:--:--\n",
      "   ------ --------------------------------- 0.4/2.2 MB 11.5 MB/s eta 0:00:01\n",
      "   -------------- ------------------------- 0.8/2.2 MB 7.3 MB/s eta 0:00:01\n",
      "   ------------------- -------------------- 1.0/2.2 MB 7.3 MB/s eta 0:00:01\n",
      "   ------------------------- -------------- 1.4/2.2 MB 7.0 MB/s eta 0:00:01\n",
      "   ------------------------------ --------- 1.6/2.2 MB 7.0 MB/s eta 0:00:01\n",
      "   ---------------------------------- ----- 1.9/2.2 MB 6.8 MB/s eta 0:00:01\n",
      "   ---------------------------------------  2.2/2.2 MB 6.3 MB/s eta 0:00:01\n",
      "   ---------------------------------------- 2.2/2.2 MB 5.8 MB/s eta 0:00:00\n",
      "Downloading kiwisolver-1.4.5-cp312-cp312-win_amd64.whl (56 kB)\n",
      "   ---------------------------------------- 0.0/56.0 kB ? eta -:--:--\n",
      "   ---------------------------------------- 56.0/56.0 kB 2.9 MB/s eta 0:00:00\n",
      "Downloading pillow-10.3.0-cp312-cp312-win_amd64.whl (2.5 MB)\n",
      "   ---------------------------------------- 0.0/2.5 MB ? eta -:--:--\n",
      "   -------- ------------------------------- 0.5/2.5 MB 8.3 MB/s eta 0:00:01\n",
      "   ----------- ---------------------------- 0.7/2.5 MB 6.8 MB/s eta 0:00:01\n",
      "   ---------------- ----------------------- 1.1/2.5 MB 7.5 MB/s eta 0:00:01\n",
      "   ---------------------- ----------------- 1.4/2.5 MB 7.4 MB/s eta 0:00:01\n",
      "   -------------------------- ------------- 1.7/2.5 MB 7.2 MB/s eta 0:00:01\n",
      "   ------------------------------- -------- 2.0/2.5 MB 7.1 MB/s eta 0:00:01\n",
      "   -------------------------------- ------- 2.1/2.5 MB 6.2 MB/s eta 0:00:01\n",
      "   ---------------------------------------  2.5/2.5 MB 6.7 MB/s eta 0:00:01\n",
      "   ---------------------------------------  2.5/2.5 MB 6.4 MB/s eta 0:00:01\n",
      "   ---------------------------------------- 2.5/2.5 MB 5.6 MB/s eta 0:00:00\n",
      "Downloading pyparsing-3.1.2-py3-none-any.whl (103 kB)\n",
      "   ---------------------------------------- 0.0/103.2 kB ? eta -:--:--\n",
      "   ---------------------------------------- 103.2/103.2 kB 3.0 MB/s eta 0:00:00\n",
      "Installing collected packages: pyparsing, pillow, kiwisolver, fonttools, cycler, contourpy, matplotlib\n",
      "Successfully installed contourpy-1.2.1 cycler-0.12.1 fonttools-4.53.0 kiwisolver-1.4.5 matplotlib-3.9.0 pillow-10.3.0 pyparsing-3.1.2\n",
      "Note: you may need to restart the kernel to use updated packages.\n"
     ]
    }
   ],
   "source": [
    "%pip install yfinance\n",
    "%pip install matplotlib\n"
   ]
  },
  {
   "cell_type": "markdown",
   "metadata": {},
   "source": []
  },
  {
   "cell_type": "code",
   "execution_count": 10,
   "metadata": {},
   "outputs": [],
   "source": [
    "# Importando a yfinance\n",
    "\n",
    "import yfinance\n"
   ]
  },
  {
   "cell_type": "code",
   "execution_count": 13,
   "metadata": {},
   "outputs": [
    {
     "data": {
      "text/plain": [
       "<Axes: xlabel='Date'>"
      ]
     },
     "execution_count": 13,
     "metadata": {},
     "output_type": "execute_result"
    },
    {
     "data": {
      "image/png": "[encoded data removed]",
      "text/plain": [
       "<Figure size 640x480 with 1 Axes>"
      ]
     },
     "metadata": {},
     "output_type": "display_data"
    }
   ],
   "source": [
    "ticker = input(\"Digite o código da ação desejada: \")\n",
    "#dataInicial = input(\"Digite a data inicial: \")\n",
    "#dataFinal = input(\"Digite a data final: \")\n",
    "#Código ação petrobras: PETR4.SA\n",
    "dados = yfinance.Ticker(ticker).history(start = \"2020-01-01\", end = \"2020-12-31\")\n",
    "\n",
    "fechamento = dados.Close\n",
    "fechamento.plot()"
   ]
  },
  {
   "cell_type": "markdown",
   "metadata": {},
   "source": [
    "#### Criar as análises solicitadas\n",
    "\n",
    "* Cotação máxima\n",
    "* Cotação mínima\n",
    "* Valor médio"
   ]
  },
  {
   "cell_type": "code",
   "execution_count": 14,
   "metadata": {},
   "outputs": [
    {
     "name": "stdout",
     "output_type": "stream",
     "text": [
      "10.96\n",
      "4.02\n",
      "7.94\n"
     ]
    }
   ],
   "source": [
    "maximo = round(fechamento.max(),2)\n",
    "minimo = round(fechamento.min(),2)\n",
    "valor_medio = round(fechamento.mean(),2)\n",
    "\n",
    "print(maximo)\n",
    "print(minimo)\n",
    "print(valor_medio)"
   ]
  },
  {
   "cell_type": "markdown",
   "metadata": {},
   "source": [
    "#### Enviar o email automaticamente\n",
    "\n",
    "- Abrir o navegador e ir para o gmail.\n",
    "- Clicar no botão escrever.\n",
    "- Digitar o email do destinatário e teclar tab.\n",
    "- Digitar o assunto do email e teclar tab.\n",
    "- Digitar a mensagem e clicar no botão enviar.\n",
    "\n",
    "Biblioteca: `pyautogui` , `pyperclip` (a pyautogui já instala automaticamente a pyperclip), `webbrowser` (já vem com python)\n",
    "\n",
    "Instalação: `pip install autogui`"
   ]
  },
  {
   "cell_type": "code",
   "execution_count": 1,
   "metadata": {},
   "outputs": [
    {
     "name": "stdout",
     "output_type": "stream",
     "text": [
      "Collecting pyautoguiNote: you may need to restart the kernel to use updated packages.\n",
      "\n",
      "  Downloading PyAutoGUI-0.9.54.tar.gz (61 kB)\n",
      "     ---------------------------------------- 0.0/61.2 kB ? eta -:--:--\n",
      "     ---------------------------------------- 61.2/61.2 kB 1.6 MB/s eta 0:00:00\n",
      "  Installing build dependencies: started\n",
      "  Installing build dependencies: finished with status 'done'\n",
      "  Getting requirements to build wheel: started\n",
      "  Getting requirements to build wheel: finished with status 'done'\n",
      "  Preparing metadata (pyproject.toml): started\n",
      "  Preparing metadata (pyproject.toml): finished with status 'done'\n",
      "Collecting pymsgbox (from pyautogui)\n",
      "  Downloading PyMsgBox-1.0.9.tar.gz (18 kB)\n",
      "  Installing build dependencies: started\n",
      "  Installing build dependencies: finished with status 'done'\n",
      "  Getting requirements to build wheel: started\n",
      "  Getting requirements to build wheel: finished with status 'done'\n",
      "  Preparing metadata (pyproject.toml): started\n",
      "  Preparing metadata (pyproject.toml): finished with status 'done'\n",
      "Collecting pytweening>=1.0.4 (from pyautogui)\n",
      "  Downloading pytweening-1.2.0.tar.gz (171 kB)\n",
      "     ---------------------------------------- 0.0/171.2 kB ? eta -:--:--\n",
      "     -- ------------------------------------- 10.2/171.2 kB ? eta -:--:--\n",
      "     -- ------------------------------------- 10.2/171.2 kB ? eta -:--:--\n",
      "     ------------- ----------------------- 61.4/171.2 kB 365.7 kB/s eta 0:00:01\n",
      "     ------------------- ----------------- 92.2/171.2 kB 476.3 kB/s eta 0:00:01\n",
      "     ----------------------- ------------ 112.6/171.2 kB 467.6 kB/s eta 0:00:01\n",
      "     ------------------------------ ----- 143.4/171.2 kB 473.7 kB/s eta 0:00:01\n",
      "     ---------------------------------- - 163.8/171.2 kB 492.3 kB/s eta 0:00:01\n",
      "     ------------------------------------ 171.2/171.2 kB 468.0 kB/s eta 0:00:00\n",
      "  Installing build dependencies: started\n",
      "  Installing build dependencies: finished with status 'done'\n",
      "  Getting requirements to build wheel: started\n",
      "  Getting requirements to build wheel: finished with status 'done'\n",
      "  Preparing metadata (pyproject.toml): started\n",
      "  Preparing metadata (pyproject.toml): finished with status 'done'\n",
      "Collecting pyscreeze>=0.1.21 (from pyautogui)\n",
      "  Downloading PyScreeze-0.1.30.tar.gz (27 kB)\n",
      "  Installing build dependencies: started\n",
      "  Installing build dependencies: finished with status 'done'\n",
      "  Getting requirements to build wheel: started\n",
      "  Getting requirements to build wheel: finished with status 'done'\n",
      "  Preparing metadata (pyproject.toml): started\n",
      "  Preparing metadata (pyproject.toml): finished with status 'done'\n",
      "Collecting pygetwindow>=0.0.5 (from pyautogui)\n",
      "  Downloading PyGetWindow-0.0.9.tar.gz (9.7 kB)\n",
      "  Installing build dependencies: started\n",
      "  Installing build dependencies: finished with status 'done'\n",
      "  Getting requirements to build wheel: started\n",
      "  Getting requirements to build wheel: finished with status 'done'\n",
      "  Preparing metadata (pyproject.toml): started\n",
      "  Preparing metadata (pyproject.toml): finished with status 'done'\n",
      "Collecting mouseinfo (from pyautogui)\n",
      "  Downloading MouseInfo-0.1.3.tar.gz (10 kB)\n",
      "  Installing build dependencies: started\n",
      "  Installing build dependencies: finished with status 'done'\n",
      "  Getting requirements to build wheel: started\n",
      "  Getting requirements to build wheel: finished with status 'done'\n",
      "  Preparing metadata (pyproject.toml): started\n",
      "  Preparing metadata (pyproject.toml): finished with status 'done'\n",
      "Collecting pyrect (from pygetwindow>=0.0.5->pyautogui)\n",
      "  Downloading PyRect-0.2.0.tar.gz (17 kB)\n",
      "  Installing build dependencies: started\n",
      "  Installing build dependencies: finished with status 'done'\n",
      "  Getting requirements to build wheel: started\n",
      "  Getting requirements to build wheel: finished with status 'done'\n",
      "  Preparing metadata (pyproject.toml): started\n",
      "  Preparing metadata (pyproject.toml): finished with status 'done'\n",
      "Collecting pyperclip (from mouseinfo->pyautogui)\n",
      "  Downloading pyperclip-1.9.0.tar.gz (20 kB)\n",
      "  Installing build dependencies: started\n",
      "  Installing build dependencies: finished with status 'done'\n",
      "  Getting requirements to build wheel: started\n",
      "  Getting requirements to build wheel: finished with status 'done'\n",
      "  Preparing metadata (pyproject.toml): started\n",
      "  Preparing metadata (pyproject.toml): finished with status 'done'\n",
      "Building wheels for collected packages: pyautogui, pygetwindow, pyscreeze, pytweening, mouseinfo, pymsgbox, pyperclip, pyrect\n",
      "  Building wheel for pyautogui (pyproject.toml): started\n",
      "  Building wheel for pyautogui (pyproject.toml): finished with status 'done'\n",
      "  Created wheel for pyautogui: filename=PyAutoGUI-0.9.54-py3-none-any.whl size=37599 sha256=c94c9e1711861394a847d114049a31a7469b41b891452889f19e224969175ce7\n",
      "  Stored in directory: c:\\users\\dougl\\appdata\\local\\pip\\cache\\wheels\\d9\\d6\\47\\04075995b093ecc87c212c9a3dbd34e59456c6fe504d65c3e4\n",
      "  Building wheel for pygetwindow (pyproject.toml): started\n",
      "  Building wheel for pygetwindow (pyproject.toml): finished with status 'done'\n",
      "  Created wheel for pygetwindow: filename=PyGetWindow-0.0.9-py3-none-any.whl size=11080 sha256=a4f830b058593c9f065e86541cd56cca060d2eb469b912bc02633e2db9b9b7c2\n",
      "  Stored in directory: c:\\users\\dougl\\appdata\\local\\pip\\cache\\wheels\\b3\\39\\81\\34dd7a2eca5f885f1f6e2796761970daf66a2d98ac1904f5f4\n",
      "  Building wheel for pyscreeze (pyproject.toml): started\n",
      "  Building wheel for pyscreeze (pyproject.toml): finished with status 'done'\n",
      "  Created wheel for pyscreeze: filename=PyScreeze-0.1.30-py3-none-any.whl size=14401 sha256=186d5dac116eef0c7f32661c40beeda79986b2961a67b65f6e7d183286362bac\n",
      "  Stored in directory: c:\\users\\dougl\\appdata\\local\\pip\\cache\\wheels\\9c\\02\\ab\\4e0b66866966de3adef00e6de37147b6ba529f6a682c64b7cf\n",
      "  Building wheel for pytweening (pyproject.toml): started\n",
      "  Building wheel for pytweening (pyproject.toml): finished with status 'done'\n",
      "  Created wheel for pytweening: filename=pytweening-1.2.0-py3-none-any.whl size=8030 sha256=7cb03be81d80db9601ed7e8c10c8ba96e2d8b932bb4fc3c26b9e8a0fd4e44141\n",
      "  Stored in directory: c:\\users\\dougl\\appdata\\local\\pip\\cache\\wheels\\23\\d5\\13\\4e9bdadbfe3c78e47c675e7410c0eed2fbb63c5ea6cf1b40e7\n",
      "  Building wheel for mouseinfo (pyproject.toml): started\n",
      "  Building wheel for mouseinfo (pyproject.toml): finished with status 'done'\n",
      "  Created wheel for mouseinfo: filename=MouseInfo-0.1.3-py3-none-any.whl size=10904 sha256=417bdf49f07f29b06ba691de40a629894d28e56fb64787f3e90f792741e72839\n",
      "  Stored in directory: c:\\users\\dougl\\appdata\\local\\pip\\cache\\wheels\\b1\\9b\\f3\\08650eb7f00af32f07789f3c6a101e0d7fc762b9891ae843bb\n",
      "  Building wheel for pymsgbox (pyproject.toml): started\n",
      "  Building wheel for pymsgbox (pyproject.toml): finished with status 'done'\n",
      "  Created wheel for pymsgbox: filename=PyMsgBox-1.0.9-py3-none-any.whl size=7416 sha256=c67cc26365baf9bc0bb759e7c4e187f864ba6beb3dcd1e87c5eb36d634e959e3\n",
      "  Stored in directory: c:\\users\\dougl\\appdata\\local\\pip\\cache\\wheels\\55\\e7\\aa\\239163543708d1e15c3d9a1b89dbfe3954b0929a6df2951b83\n",
      "  Building wheel for pyperclip (pyproject.toml): started\n",
      "  Building wheel for pyperclip (pyproject.toml): finished with status 'done'\n",
      "  Created wheel for pyperclip: filename=pyperclip-1.9.0-py3-none-any.whl size=11020 sha256=e1a2693052ca2810d256a1b30f2d212a499a402fc7febc8e5f7432c5b09532ec\n",
      "  Stored in directory: c:\\users\\dougl\\appdata\\local\\pip\\cache\\wheels\\e0\\e8\\fc\\8ab8aa326e33bc066ccd5f3ca9646eab4299881af933f94f09\n",
      "  Building wheel for pyrect (pyproject.toml): started\n",
      "  Building wheel for pyrect (pyproject.toml): finished with status 'done'\n",
      "  Created wheel for pyrect: filename=PyRect-0.2.0-py2.py3-none-any.whl size=11205 sha256=4c335a19e72d72b1ea37ef98308eddbbe342ba6e47e108078358cd88db448b76\n",
      "  Stored in directory: c:\\users\\dougl\\appdata\\local\\pip\\cache\\wheels\\0b\\1e\\d7\\0c74bd8f60b39c14d84e307398786002aa7ddc905927cc03c5\n",
      "Successfully built pyautogui pygetwindow pyscreeze pytweening mouseinfo pymsgbox pyperclip pyrect\n",
      "Installing collected packages: pytweening, pyscreeze, pyrect, pyperclip, pymsgbox, pygetwindow, mouseinfo, pyautogui\n",
      "Successfully installed mouseinfo-0.1.3 pyautogui-0.9.54 pygetwindow-0.0.9 pymsgbox-1.0.9 pyperclip-1.9.0 pyrect-0.2.0 pyscreeze-0.1.30 pytweening-1.2.0\n"
     ]
    }
   ],
   "source": [
    "%pip install pyautogui"
   ]
  },
  {
   "cell_type": "markdown",
   "metadata": {},
   "source": [
    "#### Bibliotecas"
   ]
  },
  {
   "cell_type": "code",
   "execution_count": 16,
   "metadata": {},
   "outputs": [],
   "source": [
    "import pyautogui\n",
    "import pyperclip\n",
    "import webbrowser\n",
    "import time\n",
    "\n",
    "destinatario = \"douglas.ferreirag@gmail.com\"\n",
    "assunto = \"Análises do Projeto 2020\"\n",
    "\n",
    "mensagem = f\"\"\"\n",
    "Prezado gestor,\n",
    "\n",
    "Seguem as análises solicitadas da ação {ticker}:\n",
    "\n",
    "Cotação máxima: R${maximo}\n",
    "Cotação mínima: R${minimo}\n",
    "Valor médio: R${valor_medio}\n",
    "\n",
    "Qualquer dúvida, estou à disposição!\n",
    "\n",
    "Atte.\n",
    "\n",
    "\n",
    "\n",
    "\"\"\"\n",
    "\n",
    "# Arir o navegador e ir para o gmail.\n",
    "\n",
    "webbrowser.open(\"www.gmail.com\")\n",
    "time.sleep(20)\n",
    "\n",
    "#Configurando uma pausa de 3 segundos \n",
    "\n",
    "pyautogui.PAUSE = 10\n",
    "\n",
    "#clicar no botão escrever\n",
    "\n",
    "pyautogui.click(x=175, y=160)\n",
    "\n",
    "#digitar o email do destinatário e teclar tab\n",
    "pyperclip.copy(destinatario)\n",
    "pyautogui.hotkey(\"ctrl\", \"v\")\n",
    "pyautogui.hotkey(\"tab\")\n",
    "\n",
    "\n",
    "#digitar o assunto do email\n",
    "pyperclip.copy(assunto)\n",
    "pyautogui.hotkey(\"ctrl\", \"v\")\n",
    "pyautogui.hotkey(\"tab\")\n",
    "\n",
    "#digitar o email a mensagem e teclar tab\n",
    "pyperclip.copy(mensagem)\n",
    "pyautogui.hotkey(\"ctrl\", \"v\")\n",
    "\n",
    "#clicar no botão enviar\n",
    "pyautogui.click(x=844, y=686)"
   ]
  },
  {
   "cell_type": "code",
   "execution_count": 3,
   "metadata": {},
   "outputs": [
    {
     "data": {
      "text/plain": [
       "Point(x=844, y=686)"
      ]
     },
     "execution_count": 3,
     "metadata": {},
     "output_type": "execute_result"
    }
   ],
   "source": [
    "import time\n",
    "import pyautogui\n",
    "#Pegar a posição do ponteiro do mouse.\n",
    "time.sleep(10)\n",
    "pyautogui.position()"
   ]
  }
 ],
 "metadata": {
  "kernelspec": {
   "display_name": "Python 3",
   "language": "python",
   "name": "python3"
  },
  "language_info": {
   "codemirror_mode": {
    "name": "ipython",
    "version": 3
   },
   "file_extension": ".py",
   "mimetype": "text/x-python",
   "name": "python",
   "nbconvert_exporter": "python",
   "pygments_lexer": "ipython3",
   "version": "3.12.4"
  }
 },
 "nbformat": 4,
 "nbformat_minor": 2
}
